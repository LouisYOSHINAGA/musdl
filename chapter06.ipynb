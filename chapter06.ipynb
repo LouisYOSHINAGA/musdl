{
  "cells": [
    {
      "cell_type": "code",
      "execution_count": null,
      "metadata": {
        "id": "ycYtCHu8BkdY"
      },
      "outputs": [],
      "source": [
        "!pip install pretty_midi\n",
        "!pip install midi2audio\n",
        "!apt install fluidsynth\n",
        "!pip install tensorflow==2.15\n",
        "!pip install tensorflow-probability==0.23"
      ]
    },
    {
      "cell_type": "code",
      "execution_count": null,
      "metadata": {
        "id": "m0nRolvU3bE6"
      },
      "outputs": [],
      "source": [
        "import glob, random\n",
        "import numpy as np\n",
        "import pretty_midi\n",
        "from sklearn.model_selection import train_test_split\n",
        "import tensorflow as tf\n",
        "import tensorflow_probability as tfp\n",
        "import matplotlib.pyplot as plt\n",
        "from midi2audio import FluidSynth\n",
        "import IPython.display as ipd"
      ]
    },
    {
      "cell_type": "code",
      "execution_count": null,
      "metadata": {
        "id": "qGnOOK1P3Tw1"
      },
      "outputs": [],
      "source": [
        "class UnsupportedMidiFileException(Exception):\n",
        "    \"Unsupported MIDI File\"\n",
        "\n",
        "def transpose_to_c(midi: pretty_midi.PrettyMIDI, key_number: int) -> None:\n",
        "    for inst in midi.instruments:\n",
        "        if not inst.is_drum:\n",
        "            for note in inst.notes:\n",
        "                note.pitch -= key_number % 12\n",
        "\n",
        "def get_pianoroll(midi: pretty_midi.PrettyMIDI, note_low: int, note_high: int, seqlen: int, tempo: float) -> np.ndarray:\n",
        "    pianoroll: np.ndarray = midi.get_piano_roll(fs=2*tempo/60)\n",
        "    if pianoroll.shape[1] < seqlen:\n",
        "        raise UnsupportedMidiFileException\n",
        "    pianoroll = pianoroll[note_low:note_high, 0:seqlen]\n",
        "    pianoroll = np.heaviside(pianoroll, 0)\n",
        "    return np.transpose(pianoroll)\n",
        "\n",
        "def read_midi(filename: str, is_sep_sop_alt: bool, seqlen: int) -> tuple[np.ndarray, np.ndarray, np.ndarray] \\\n",
        "                                                                 | tuple[np.ndarray, np.ndarray]:\n",
        "    midi = pretty_midi.PrettyMIDI(filename)\n",
        "    if len(midi.key_signature_changes) != 1:\n",
        "        raise UnsupportedMidiFileException\n",
        "\n",
        "    key_number: int = midi.key_signature_changes[0].key_number\n",
        "    transpose_to_c(midi, key_number)\n",
        "    key_mode: np.ndarray = np.array([int(key_number/12)])\n",
        "    tempo_time, tempo = midi.get_tempo_changes()\n",
        "    if len(tempo) != 1:\n",
        "        raise UnsupportedMidiFileException\n",
        "\n",
        "    if is_sep_sop_alt:\n",
        "        if len(midi.instruments) < 2:\n",
        "            raise UnsupportedMidiFileException\n",
        "        pianoroll_sop: np.ndarray = get_pianoroll(midi.instruments[0], 36, 84, seqlen, tempo[0])\n",
        "        pianoroll_alt: np.ndarray = get_pianoroll(midi.instruments[1], 36, 84, seqlen, tempo[0])\n",
        "        return pianoroll_sop, pianoroll_alt, key_mode\n",
        "    else:\n",
        "        pianoroll: np.ndarray = get_pianoroll(midi, 36, 84, seqlen, tempo[0])\n",
        "        return pianoroll, key_mode\n",
        "\n",
        "def add_rest_notes(pianoroll: np.ndarray) -> np.ndarray:\n",
        "    rests: np.ndarray = 1 - np.sum(pianoroll, axis=1)\n",
        "    return np.concatenate([pianoroll, np.expand_dims(rests, 1)], axis=1)"
      ]
    },
    {
      "cell_type": "code",
      "execution_count": null,
      "metadata": {
        "id": "BVs7bfBhv555"
      },
      "outputs": [],
      "source": [
        "def make_midi(pianorolls: list[np.ndarray], filename: str) -> None:\n",
        "    midi: pretty_midi.PrettyMIDI = pretty_midi.PrettyMIDI(resolution=480)\n",
        "    for pianoroll in pianorolls:\n",
        "        inst: pretty_midi.Instrument = pretty_midi.Instrument(program=1)\n",
        "        for i in range(pianoroll.shape[0]):\n",
        "            for j in range(pianoroll.shape[1]):\n",
        "                if pianoroll[i,j] > 0.5:\n",
        "                    inst.notes.append(\n",
        "                        pretty_midi.Note(start=i/2, end=(i+1)/2, pitch=j+36, velocity=100)\n",
        "                    )\n",
        "        midi.instruments.append(inst)\n",
        "    midi.write(filename)\n",
        "\n",
        "def show_and_play_midi(pianorolls: list[np.ndarray], filename: str) -> None:\n",
        "    for pianoroll in pianorolls:\n",
        "        plt.matshow(np.transpose(pianoroll))\n",
        "        plt.show()\n",
        "    make_midi(pianorolls, filename)\n",
        "\n",
        "    fs: FluidSynth = FluidSynth(sound_font=\"/usr/share/sounds/sf2/FluidR3_GM.sf2\")\n",
        "    fs.midi_to_audio(filename, \"output.wav\")\n",
        "    ipd.display(ipd.Audio(\"output.wav\"))"
      ]
    },
    {
      "cell_type": "code",
      "execution_count": null,
      "metadata": {
        "id": "p1bni0X75eXG"
      },
      "outputs": [],
      "source": [
        "dir: str = \"/content/drive/MyDrive/impl/musdl/chorales/midi/\"\n",
        "filenames: list[str] = []\n",
        "xs: list[np.ndarray] = []\n",
        "keymodes: list[np.ndarray] = []\n",
        "\n",
        "for f in glob.glob(f\"{dir}*.mid\"):\n",
        "    print(f)\n",
        "    try:\n",
        "        sop, _, key_mode = read_midi(f, is_sep_sop_alt=True, seqlen=64)\n",
        "        x = add_rest_notes(sop)\n",
        "        filenames.append(f)\n",
        "        xs.append(x)\n",
        "        keymodes.append(key_mode)\n",
        "    except UnsupportedMidiFileException:\n",
        "        print(\"skip\")\n",
        "\n",
        "x_all: np.ndarray = np.array(xs)"
      ]
    },
    {
      "cell_type": "code",
      "execution_count": null,
      "metadata": {
        "id": "Wazdk5h_72ub"
      },
      "outputs": [],
      "source": [
        "print(x_all.shape)"
      ]
    },
    {
      "cell_type": "code",
      "execution_count": null,
      "metadata": {
        "id": "8-NM8EOR8jrk"
      },
      "outputs": [],
      "source": [
        "idxs_train, idxs_test = train_test_split(range(len(x_all)), test_size=len(x_all)//2, shuffle=False)\n",
        "x_train: np.ndarray = x_all[idxs_train]\n",
        "x_test: np.ndarray = x_all[idxs_test]"
      ]
    },
    {
      "cell_type": "code",
      "execution_count": null,
      "metadata": {
        "id": "y-lfGhxH3PeM"
      },
      "outputs": [],
      "source": [
        "seq_length: int = x_train.shape[1]\n",
        "input_dim: int = x_train.shape[2]\n",
        "encoded_dim: int = 16\n",
        "lstm_dim: int = 1024"
      ]
    },
    {
      "cell_type": "code",
      "execution_count": null,
      "metadata": {
        "id": "Mq_B_e8KQljK"
      },
      "outputs": [],
      "source": [
        "prior: tfp.distributions.Independent = tfp.distributions.Independent(\n",
        "    tfp.distributions.Normal(loc=tf.zeros(encoded_dim), scale=1),\n",
        "    reinterpreted_batch_ndims=1\n",
        ")"
      ]
    },
    {
      "cell_type": "code",
      "execution_count": null,
      "metadata": {
        "id": "fWebC_TU3R0M"
      },
      "outputs": [],
      "source": [
        "encoder: tf.keras.Sequential = tf.keras.Sequential([\n",
        "    tf.keras.layers.Input(\n",
        "        shape=(seq_length, input_dim)\n",
        "    ),\n",
        "    tf.keras.layers.LSTM(\n",
        "        lstm_dim,\n",
        "        use_bias=True,\n",
        "        activation=\"tanh\",\n",
        "        return_sequences=False\n",
        "    ),\n",
        "    tf.keras.layers.Dense(\n",
        "        tfp.layers.MultivariateNormalTriL.params_size(encoded_dim), activation=None\n",
        "    ),\n",
        "    tfp.layers.MultivariateNormalTriL(\n",
        "        encoded_dim,\n",
        "        activity_regularizer=tfp.layers.KLDivergenceRegularizer(prior, weight=0.001)\n",
        "    ),\n",
        "])\n",
        "encoder.summary()"
      ]
    },
    {
      "cell_type": "code",
      "execution_count": null,
      "metadata": {
        "id": "JXSK51w1-D-h"
      },
      "outputs": [],
      "source": [
        "decoder: tf.keras.Sequential = tf.keras.Sequential([\n",
        "    tf.keras.layers.Input(shape=(encoded_dim,)),\n",
        "    tf.keras.layers.RepeatVector(seq_length),\n",
        "    tf.keras.layers.LSTM(lstm_dim, use_bias=True, activation=\"tanh\", return_sequences=True),\n",
        "    tf.keras.layers.Dense(input_dim, use_bias=True, activation=\"softmax\")\n",
        "])\n",
        "decoder.summary()"
      ]
    },
    {
      "cell_type": "code",
      "execution_count": null,
      "metadata": {
        "id": "Cx51rLUM-CgS"
      },
      "outputs": [],
      "source": [
        "vae: tf.keras.Model = tf.keras.Model(encoder.inputs, decoder(encoder.outputs))\n",
        "vae.compile(optimizer=\"adam\", loss=\"categorical_crossentropy\", metrics=[\"categorical_accuracy\"])\n",
        "vae.summary()"
      ]
    },
    {
      "cell_type": "code",
      "execution_count": null,
      "metadata": {
        "id": "nWf5C1j8-JqZ"
      },
      "outputs": [],
      "source": [
        "vae.fit(x_train, x_train, batch_size=32, epochs=1000)"
      ]
    },
    {
      "cell_type": "code",
      "execution_count": null,
      "metadata": {
        "id": "2fQ_EoOdFbG9"
      },
      "outputs": [],
      "source": [
        "z: np.ndarray = encoder.predict(x_test)\n",
        "x_new: np.ndarray = decoder.predict(z)"
      ]
    },
    {
      "cell_type": "code",
      "execution_count": null,
      "metadata": {
        "id": "2l53Fv16eH1K"
      },
      "outputs": [],
      "source": [
        "k: int = random.randint(0, len(idxs_test))\n",
        "print(f\"melody id: {k}\")\n",
        "show_and_play_midi([x_test[k, :, 0:-1]], \"input.mid\")\n",
        "show_and_play_midi([x_new[k, :, 0:-1]], \"output.mid\")"
      ]
    },
    {
      "cell_type": "code",
      "execution_count": null,
      "metadata": {
        "colab": {
          "background_save": true
        },
        "id": "8J-WpvLAFjS5"
      },
      "outputs": [],
      "source": [
        "rate: float = 0.5\n",
        "k: int = random.randint(0, len(idxs_test))\n",
        "l: int = random.randint(0, len(idxs_test))\n",
        "print(f\"melody id: {k}, {l}\")\n",
        "\n",
        "z_new: np.ndarray = rate * z[k] + (1 - rate) * z[l]\n",
        "x_new: np.ndarray = decoder.predict(np.array([z_new]))\n",
        "show_and_play_midi([x_test[k, :, 0:-1]], \"input1.mid\")\n",
        "show_and_play_midi([x_test[l, :, 0:-1]], \"input2.mid\")\n",
        "show_and_play_midi([x_new[0, :, 0:-1]], \"output.mid\")"
      ]
    }
  ],
  "metadata": {
    "accelerator": "GPU",
    "colab": {
      "gpuType": "T4",
      "provenance": [],
      "mount_file_id": "1fjH4yFYNo-gbSm6FBGhPH2dmxk_y2wMA",
      "authorship_tag": "ABX9TyMc6VxXXTa1O+qgjYigauSc"
    },
    "kernelspec": {
      "display_name": "Python 3",
      "name": "python3"
    },
    "language_info": {
      "name": "python"
    }
  },
  "nbformat": 4,
  "nbformat_minor": 0
}