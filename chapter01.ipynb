{
  "nbformat": 4,
  "nbformat_minor": 0,
  "metadata": {
    "colab": {
      "provenance": [],
      "mount_file_id": "1cvyoLks4lCr5Sn3vURDJJQ2uyy68W3AI",
      "authorship_tag": "ABX9TyMzE4Tnd8OC9TTED7phyVHn"
    },
    "kernelspec": {
      "name": "python3",
      "display_name": "Python 3"
    },
    "language_info": {
      "name": "python"
    }
  },
  "cells": [
    {
      "cell_type": "code",
      "source": [
        "import numpy as np\n",
        "import matplotlib.pyplot as plt"
      ],
      "metadata": {
        "id": "c5tEs8NDFjWj"
      },
      "execution_count": null,
      "outputs": []
    },
    {
      "cell_type": "code",
      "execution_count": null,
      "metadata": {
        "id": "FUdKFqbC4GHq"
      },
      "outputs": [],
      "source": [
        "print(\"Hello\")"
      ]
    },
    {
      "cell_type": "code",
      "source": [
        "a: np.ndarray = np.array([[1.0, -1.0], [0.0, 1.0]])\n",
        "print(a)"
      ],
      "metadata": {
        "id": "kWrgd38BEM38"
      },
      "execution_count": null,
      "outputs": []
    },
    {
      "cell_type": "code",
      "source": [
        "a: np.ndarray = np.array([[1.0, -1.0], [0.0, 1.0]])\n",
        "b: np.ndarray = np.array([[0.0, 2.0], [1.0, 1.0]])\n",
        "c: np.ndarray = a + b\n",
        "print(c)"
      ],
      "metadata": {
        "id": "dNp6zd-vEhZL"
      },
      "execution_count": null,
      "outputs": []
    },
    {
      "cell_type": "code",
      "source": [
        "a: np.ndarray = np.array([[1.0, -1.0, 0.0], [-0.5, 1.0, 0.2], [0.0, 2.0, 1.0]])\n",
        "b: np.ndarray = a[0:2, 1:3]\n",
        "print(b)"
      ],
      "metadata": {
        "id": "WN_cW5dLEyTI"
      },
      "execution_count": null,
      "outputs": []
    },
    {
      "cell_type": "code",
      "source": [
        "x: np.ndarray = np.arange(0, 10, 0.01)\n",
        "y: np.ndarray = np.sin(x)\n",
        "plt.plot(x, y)\n",
        "plt.show()"
      ],
      "metadata": {
        "id": "8BQgY9-8FBuj",
        "collapsed": true
      },
      "execution_count": null,
      "outputs": []
    },
    {
      "cell_type": "code",
      "source": [
        "a: np.ndarray = np.array([[1.0, -1.0, 0.0], [-0.5, 1.0, 0.2], [0.0, 2.0, 1.0]])\n",
        "plt.matshow(a)\n",
        "plt.show()"
      ],
      "metadata": {
        "id": "Z1lVTgwAFOVI"
      },
      "execution_count": null,
      "outputs": []
    }
  ]
}